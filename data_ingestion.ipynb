{
  "metadata": {
    "kernelspec": {
      "name": "python",
      "display_name": "Python (Pyodide)",
      "language": "python"
    },
    "language_info": {
      "codemirror_mode": {
        "name": "python",
        "version": 3
      },
      "file_extension": ".py",
      "mimetype": "text/x-python",
      "name": "python",
      "nbconvert_exporter": "python",
      "pygments_lexer": "ipython3",
      "version": "3.8"
    }
  },
  "nbformat_minor": 4,
  "nbformat": 4,
  "cells": [
    {
      "cell_type": "code",
      "source": "%%writefile testutility.py\nimport logging\nimport os\nimport subprocess\nimport yaml\nimport pandas as pd\nimport datetime\nimport gc\nimport re\n\n\n################\n# File Reading #\n################\n\ndef read_config_file(filepath):\n    with open(filepath, 'r') as stream:\n        try:\n            return yaml.safe_load(stream)\n        except yaml.YAMLError as exc:\n            logging.error(exc)\n\n\ndef replacer(string, char):\n    pattern = char + '{2,}'\n    string = re.sub(pattern, char, string)\n    return string\n\n\ndef col_header_val(df, table_config):\n    \"\"\" replace whitespaces in the column  and standardized column names \"\"\"\n    df.columns = df.columns.str.lower()\n    df.columns = df.columns.str.replace('[^\\w]', '_', regex=True)\n    df.columns = list(map(lambda x: x.strip('_'), list(df.columns)))\n    df.columns = list(map(lambda x: replacer(x, '_'), list(df.columns)))\n    expected_col = list(map(lambda x: x.lower(), table_config['columns']))\n    expected_col.sort()\n    df.columns = list(map(lambda x: x.lower(), list(df.columns)))\n    df = df.reindex(sorted(df.columns), axis=1)\n    if len(df.columns) == len(expected_col) and list(expected_col) == list(df.columns):\n        print(\"column name and column length validation passed\")\n        return 1\n    else:\n        print(\"column name and column length validation failed\")\n        mismatched_columns_file = list(set(df.columns).difference(expected_col))\n        print(\"Following File columns are not in the YAML file\", mismatched_columns_file)\n        missing_YAML_file = list(set(expected_col).difference(df.columns))\n        print(\"Following YAML columns are not in the file uploaded\", missing_YAML_file)\n        logging.info(f'df columns: {df.columns}')\n        logging.info(f'expected columns: {expected_col}')\n        return 0\n",
      "metadata": {
        "trusted": true
      },
      "outputs": [
        {
          "name": "stdout",
          "text": "Overwriting testutility.py\n",
          "output_type": "stream"
        }
      ],
      "execution_count": 2
    },
    {
      "cell_type": "code",
      "source": "%%writefile file.yaml\nfile_type: csv\ndataset_name: testfile\nfile_name: test_data\ntable_name: edsurv\ninbound_delimiter: \",\"\noutbound_delimiter: \"|\"\nskip_leading_rows: 1\ncolumns: \n    -Summons Number\n    -Plate ID\n    -Registration State\n    -Plate Type\n    -Issue Date\n    -Violation Code\n    -Vehicle Body Type\n    -Vehicle Make\n    -Issuing Agency\n    -Street Code1\n    -Street Code2\n    -Street Code3\n    -Vehicle Expiration Date\n    -Violation Location\n    -Violation Precinct\n    -Issuer Precinct\n    -Issuer Code\n    -Issuer Command\n    -Issuer Squad\n    -Violation Time\n    -Time First Observed\n    -Violation County\n    -Violation In Front Of Or Opposite\n    -House Number\n    -Street Name\n    -Intersecting Street-Date First Observed\n    -Law Section\n    -Sub Division\n    -Violation Legal Code\n    -Days Parking In Effect    \n    -From Hours In Effect\n    -To Hours In Effect\n    -Vehicle Color\n    -Unregistered Vehicle?\n    -Vehicle Year\n    -Meter Number\n    -Feet From Curb-Violation Post Code\n    -Violation Description\n    -No Standing or Stopping Violation\n    -Hydrant Violation\n    -Double Parking Violation\n    -Latitude\n    -Longitude\n    -Community Board\n    -Community Council \n    -Census Tract\n    -BIN\n    -BBL\n    -NTA\n",
      "metadata": {
        "trusted": true
      },
      "outputs": [
        {
          "name": "stdout",
          "text": "Overwriting file.yaml\n",
          "output_type": "stream"
        }
      ],
      "execution_count": 3
    },
    {
      "cell_type": "code",
      "source": "# reading config file\nimport pandas\nimport micropip\nawait micropip.install(\"pyyaml\")\nimport testutility as util\nconfig_data= util.read_config_file(\"file.yaml\")",
      "metadata": {
        "trusted": true
      },
      "outputs": [],
      "execution_count": 4
    },
    {
      "cell_type": "code",
      "source": "config_data['inbound_delimiter']",
      "metadata": {
        "trusted": true
      },
      "outputs": [
        {
          "execution_count": 5,
          "output_type": "execute_result",
          "data": {
            "text/plain": "','"
          },
          "metadata": {}
        }
      ],
      "execution_count": 5
    },
    {
      "cell_type": "code",
      "source": "#inspecting data of config file\nconfig_data",
      "metadata": {
        "trusted": true
      },
      "outputs": [
        {
          "execution_count": 6,
          "output_type": "execute_result",
          "data": {
            "text/plain": "{'file_type': 'csv',\n 'dataset_name': 'testfile',\n 'file_name': 'test_data',\n 'table_name': 'edsurv',\n 'inbound_delimiter': ',',\n 'outbound_delimiter': '|',\n 'skip_leading_rows': 1,\n 'columns': '-Summons Number -Plate ID -Registration State -Plate Type -Issue Date -Violation Code -Vehicle Body Type -Vehicle Make -Issuing Agency -Street Code1 -Street Code2 -Street Code3 -Vehicle Expiration Date -Violation Location -Violation Precinct -Issuer Precinct -Issuer Code -Issuer Command -Issuer Squad -Violation Time -Time First Observed -Violation County -Violation In Front Of Or Opposite -House Number -Street Name -Intersecting Street-Date First Observed -Law Section -Sub Division -Violation Legal Code -Days Parking In Effect -From Hours In Effect -To Hours In Effect -Vehicle Color -Unregistered Vehicle? -Vehicle Year -Meter Number -Feet From Curb-Violation Post Code -Violation Description -No Standing or Stopping Violation -Hydrant Violation -Double Parking Violation -Latitude -Longitude -Community Board -Community Council -Census Tract -BIN -BBL -NTA'}"
          },
          "metadata": {}
        }
      ],
      "execution_count": 6
    },
    {
      "cell_type": "code",
      "source": "# Normal reading process of the file\nimport pandas as pd\ndf_sample = pd.read_csv(\"test_data.csv\",delimiter=',')\ndf_sample.head()",
      "metadata": {
        "trusted": true
      },
      "outputs": [
        {
          "execution_count": 7,
          "output_type": "execute_result",
          "data": {
            "text/plain": "   Summons Number  Plate ID Registration State Plate Type  Issue Date  \\\n0      8002531292   EPC5238                 NY        PAS  10/01/2014   \n1      8015318440    5298MD                 NY        COM  03/06/2015   \n2      7611181981   FYW2775                 NY        PAS  07/28/2014   \n3      7445908067   GWE1987                 NY        PAS  04/13/2015   \n4      7037692864  T671196C                 NY        PAS  05/19/2015   \n\n   Violation Code Vehicle Body Type Vehicle Make Issuing Agency  Street Code1  \\\n0              21              SUBN        CHEVR              T         20390   \n1              14               VAN        FRUEH              T         27790   \n2              46              SUBN        SUBAR              T          8130   \n3              19              4DSD        LEXUS              T         59990   \n4              19              4DSD        CHRYS              T         36090   \n\n   ...  Hydrant Violation  Double Parking Violation Latitude  Longitude  \\\n0  ...                NaN                       NaN      NaN        NaN   \n1  ...                NaN                       NaN      NaN        NaN   \n2  ...                NaN                       NaN      NaN        NaN   \n3  ...                NaN                       NaN      NaN        NaN   \n4  ...                NaN                       NaN      NaN        NaN   \n\n   Community Board  Community Council   Census Tract BIN BBL NTA  \n0              NaN                 NaN           NaN NaN NaN NaN  \n1              NaN                 NaN           NaN NaN NaN NaN  \n2              NaN                 NaN           NaN NaN NaN NaN  \n3              NaN                 NaN           NaN NaN NaN NaN  \n4              NaN                 NaN           NaN NaN NaN NaN  \n\n[5 rows x 51 columns]",
            "text/html": "<div>\n<style scoped>\n    .dataframe tbody tr th:only-of-type {\n        vertical-align: middle;\n    }\n\n    .dataframe tbody tr th {\n        vertical-align: top;\n    }\n\n    .dataframe thead th {\n        text-align: right;\n    }\n</style>\n<table border=\"1\" class=\"dataframe\">\n  <thead>\n    <tr style=\"text-align: right;\">\n      <th></th>\n      <th>Summons Number</th>\n      <th>Plate ID</th>\n      <th>Registration State</th>\n      <th>Plate Type</th>\n      <th>Issue Date</th>\n      <th>Violation Code</th>\n      <th>Vehicle Body Type</th>\n      <th>Vehicle Make</th>\n      <th>Issuing Agency</th>\n      <th>Street Code1</th>\n      <th>...</th>\n      <th>Hydrant Violation</th>\n      <th>Double Parking Violation</th>\n      <th>Latitude</th>\n      <th>Longitude</th>\n      <th>Community Board</th>\n      <th>Community Council</th>\n      <th>Census Tract</th>\n      <th>BIN</th>\n      <th>BBL</th>\n      <th>NTA</th>\n    </tr>\n  </thead>\n  <tbody>\n    <tr>\n      <th>0</th>\n      <td>8002531292</td>\n      <td>EPC5238</td>\n      <td>NY</td>\n      <td>PAS</td>\n      <td>10/01/2014</td>\n      <td>21</td>\n      <td>SUBN</td>\n      <td>CHEVR</td>\n      <td>T</td>\n      <td>20390</td>\n      <td>...</td>\n      <td>NaN</td>\n      <td>NaN</td>\n      <td>NaN</td>\n      <td>NaN</td>\n      <td>NaN</td>\n      <td>NaN</td>\n      <td>NaN</td>\n      <td>NaN</td>\n      <td>NaN</td>\n      <td>NaN</td>\n    </tr>\n    <tr>\n      <th>1</th>\n      <td>8015318440</td>\n      <td>5298MD</td>\n      <td>NY</td>\n      <td>COM</td>\n      <td>03/06/2015</td>\n      <td>14</td>\n      <td>VAN</td>\n      <td>FRUEH</td>\n      <td>T</td>\n      <td>27790</td>\n      <td>...</td>\n      <td>NaN</td>\n      <td>NaN</td>\n      <td>NaN</td>\n      <td>NaN</td>\n      <td>NaN</td>\n      <td>NaN</td>\n      <td>NaN</td>\n      <td>NaN</td>\n      <td>NaN</td>\n      <td>NaN</td>\n    </tr>\n    <tr>\n      <th>2</th>\n      <td>7611181981</td>\n      <td>FYW2775</td>\n      <td>NY</td>\n      <td>PAS</td>\n      <td>07/28/2014</td>\n      <td>46</td>\n      <td>SUBN</td>\n      <td>SUBAR</td>\n      <td>T</td>\n      <td>8130</td>\n      <td>...</td>\n      <td>NaN</td>\n      <td>NaN</td>\n      <td>NaN</td>\n      <td>NaN</td>\n      <td>NaN</td>\n      <td>NaN</td>\n      <td>NaN</td>\n      <td>NaN</td>\n      <td>NaN</td>\n      <td>NaN</td>\n    </tr>\n    <tr>\n      <th>3</th>\n      <td>7445908067</td>\n      <td>GWE1987</td>\n      <td>NY</td>\n      <td>PAS</td>\n      <td>04/13/2015</td>\n      <td>19</td>\n      <td>4DSD</td>\n      <td>LEXUS</td>\n      <td>T</td>\n      <td>59990</td>\n      <td>...</td>\n      <td>NaN</td>\n      <td>NaN</td>\n      <td>NaN</td>\n      <td>NaN</td>\n      <td>NaN</td>\n      <td>NaN</td>\n      <td>NaN</td>\n      <td>NaN</td>\n      <td>NaN</td>\n      <td>NaN</td>\n    </tr>\n    <tr>\n      <th>4</th>\n      <td>7037692864</td>\n      <td>T671196C</td>\n      <td>NY</td>\n      <td>PAS</td>\n      <td>05/19/2015</td>\n      <td>19</td>\n      <td>4DSD</td>\n      <td>CHRYS</td>\n      <td>T</td>\n      <td>36090</td>\n      <td>...</td>\n      <td>NaN</td>\n      <td>NaN</td>\n      <td>NaN</td>\n      <td>NaN</td>\n      <td>NaN</td>\n      <td>NaN</td>\n      <td>NaN</td>\n      <td>NaN</td>\n      <td>NaN</td>\n      <td>NaN</td>\n    </tr>\n  </tbody>\n</table>\n<p>5 rows × 51 columns</p>\n</div>"
          },
          "metadata": {}
        }
      ],
      "execution_count": 7
    },
    {
      "cell_type": "code",
      "source": "#Reading the file using config file\nfile_type = config_data['file_type']\nsource_file = config_data['file_name'] + f'.{file_type}'\nimport pandas as pd\ndf = pd.read_csv(source_file,config_data['inbound_delimiter'])\ndf.head()\n",
      "metadata": {
        "trusted": true
      },
      "outputs": [
        {
          "name": "stderr",
          "text": "<ipython-input-8-518d97d0919c>:5: FutureWarning: In a future version of pandas all arguments of read_csv except for the argument 'filepath_or_buffer' will be keyword-only.\n  df = pd.read_csv(source_file,config_data['inbound_delimiter'])\n",
          "output_type": "stream"
        },
        {
          "execution_count": 8,
          "output_type": "execute_result",
          "data": {
            "text/plain": "   Summons Number  Plate ID Registration State Plate Type  Issue Date  \\\n0      8002531292   EPC5238                 NY        PAS  10/01/2014   \n1      8015318440    5298MD                 NY        COM  03/06/2015   \n2      7611181981   FYW2775                 NY        PAS  07/28/2014   \n3      7445908067   GWE1987                 NY        PAS  04/13/2015   \n4      7037692864  T671196C                 NY        PAS  05/19/2015   \n\n   Violation Code Vehicle Body Type Vehicle Make Issuing Agency  Street Code1  \\\n0              21              SUBN        CHEVR              T         20390   \n1              14               VAN        FRUEH              T         27790   \n2              46              SUBN        SUBAR              T          8130   \n3              19              4DSD        LEXUS              T         59990   \n4              19              4DSD        CHRYS              T         36090   \n\n   ...  Hydrant Violation  Double Parking Violation Latitude  Longitude  \\\n0  ...                NaN                       NaN      NaN        NaN   \n1  ...                NaN                       NaN      NaN        NaN   \n2  ...                NaN                       NaN      NaN        NaN   \n3  ...                NaN                       NaN      NaN        NaN   \n4  ...                NaN                       NaN      NaN        NaN   \n\n   Community Board  Community Council   Census Tract BIN BBL NTA  \n0              NaN                 NaN           NaN NaN NaN NaN  \n1              NaN                 NaN           NaN NaN NaN NaN  \n2              NaN                 NaN           NaN NaN NaN NaN  \n3              NaN                 NaN           NaN NaN NaN NaN  \n4              NaN                 NaN           NaN NaN NaN NaN  \n\n[5 rows x 51 columns]",
            "text/html": "<div>\n<style scoped>\n    .dataframe tbody tr th:only-of-type {\n        vertical-align: middle;\n    }\n\n    .dataframe tbody tr th {\n        vertical-align: top;\n    }\n\n    .dataframe thead th {\n        text-align: right;\n    }\n</style>\n<table border=\"1\" class=\"dataframe\">\n  <thead>\n    <tr style=\"text-align: right;\">\n      <th></th>\n      <th>Summons Number</th>\n      <th>Plate ID</th>\n      <th>Registration State</th>\n      <th>Plate Type</th>\n      <th>Issue Date</th>\n      <th>Violation Code</th>\n      <th>Vehicle Body Type</th>\n      <th>Vehicle Make</th>\n      <th>Issuing Agency</th>\n      <th>Street Code1</th>\n      <th>...</th>\n      <th>Hydrant Violation</th>\n      <th>Double Parking Violation</th>\n      <th>Latitude</th>\n      <th>Longitude</th>\n      <th>Community Board</th>\n      <th>Community Council</th>\n      <th>Census Tract</th>\n      <th>BIN</th>\n      <th>BBL</th>\n      <th>NTA</th>\n    </tr>\n  </thead>\n  <tbody>\n    <tr>\n      <th>0</th>\n      <td>8002531292</td>\n      <td>EPC5238</td>\n      <td>NY</td>\n      <td>PAS</td>\n      <td>10/01/2014</td>\n      <td>21</td>\n      <td>SUBN</td>\n      <td>CHEVR</td>\n      <td>T</td>\n      <td>20390</td>\n      <td>...</td>\n      <td>NaN</td>\n      <td>NaN</td>\n      <td>NaN</td>\n      <td>NaN</td>\n      <td>NaN</td>\n      <td>NaN</td>\n      <td>NaN</td>\n      <td>NaN</td>\n      <td>NaN</td>\n      <td>NaN</td>\n    </tr>\n    <tr>\n      <th>1</th>\n      <td>8015318440</td>\n      <td>5298MD</td>\n      <td>NY</td>\n      <td>COM</td>\n      <td>03/06/2015</td>\n      <td>14</td>\n      <td>VAN</td>\n      <td>FRUEH</td>\n      <td>T</td>\n      <td>27790</td>\n      <td>...</td>\n      <td>NaN</td>\n      <td>NaN</td>\n      <td>NaN</td>\n      <td>NaN</td>\n      <td>NaN</td>\n      <td>NaN</td>\n      <td>NaN</td>\n      <td>NaN</td>\n      <td>NaN</td>\n      <td>NaN</td>\n    </tr>\n    <tr>\n      <th>2</th>\n      <td>7611181981</td>\n      <td>FYW2775</td>\n      <td>NY</td>\n      <td>PAS</td>\n      <td>07/28/2014</td>\n      <td>46</td>\n      <td>SUBN</td>\n      <td>SUBAR</td>\n      <td>T</td>\n      <td>8130</td>\n      <td>...</td>\n      <td>NaN</td>\n      <td>NaN</td>\n      <td>NaN</td>\n      <td>NaN</td>\n      <td>NaN</td>\n      <td>NaN</td>\n      <td>NaN</td>\n      <td>NaN</td>\n      <td>NaN</td>\n      <td>NaN</td>\n    </tr>\n    <tr>\n      <th>3</th>\n      <td>7445908067</td>\n      <td>GWE1987</td>\n      <td>NY</td>\n      <td>PAS</td>\n      <td>04/13/2015</td>\n      <td>19</td>\n      <td>4DSD</td>\n      <td>LEXUS</td>\n      <td>T</td>\n      <td>59990</td>\n      <td>...</td>\n      <td>NaN</td>\n      <td>NaN</td>\n      <td>NaN</td>\n      <td>NaN</td>\n      <td>NaN</td>\n      <td>NaN</td>\n      <td>NaN</td>\n      <td>NaN</td>\n      <td>NaN</td>\n      <td>NaN</td>\n    </tr>\n    <tr>\n      <th>4</th>\n      <td>7037692864</td>\n      <td>T671196C</td>\n      <td>NY</td>\n      <td>PAS</td>\n      <td>05/19/2015</td>\n      <td>19</td>\n      <td>4DSD</td>\n      <td>CHRYS</td>\n      <td>T</td>\n      <td>36090</td>\n      <td>...</td>\n      <td>NaN</td>\n      <td>NaN</td>\n      <td>NaN</td>\n      <td>NaN</td>\n      <td>NaN</td>\n      <td>NaN</td>\n      <td>NaN</td>\n      <td>NaN</td>\n      <td>NaN</td>\n      <td>NaN</td>\n    </tr>\n  </tbody>\n</table>\n<p>5 rows × 51 columns</p>\n</div>"
          },
          "metadata": {}
        }
      ],
      "execution_count": 8
    },
    {
      "cell_type": "code",
      "source": "#validate the header of the file\nutil.col_header_val(df,config_data)",
      "metadata": {
        "trusted": true
      },
      "outputs": [
        {
          "name": "stdout",
          "text": "column name and column length validation failed\nFollowing File columns are not in the YAML file ['street_code3', 'street_code2', 'street_code1', 'plate_type', 'summons_number', 'issuer_precinct', 'days_parking_in_effect', 'issue_date', 'bin', 'violation_time', 'from_hours_in_effect', 'census_tract', 'street_name', 'unregistered_vehicle', 'vehicle_expiration_date', 'violation_precinct', 'meter_number', 'violation_county', 'issuing_agency', 'hydrant_violation', 'latitude', 'longitude', 'vehicle_make', 'feet_from_curb', 'to_hours_in_effect', 'issuer_squad', 'violation_code', 'no_standing_or_stopping_violation', 'violation_description', 'violation_in_front_of_or_opposite', 'violation_post_code', 'house_number', 'date_first_observed', 'violation_legal_code', 'issuer_code', 'plate_id', 'registration_state', 'bbl', 'time_first_observed', 'double_parking_violation', 'community_board', 'sub_division', 'vehicle_color', 'vehicle_year', 'issuer_command', 'law_section', 'intersecting_street', 'vehicle_body_type', 'community_council', 'violation_location', 'nta']\nFollowing YAML columns are not in the file uploaded ['q', 'f', 'g', 'd', 'e', 'b', 'c', ' ', 'a', 'n', 'o', 'l', '-', 'm', 'k', 'h', 'i', 'v', 'w', 't', 'u', '2', '3', 'r', '1', 's', '?', 'p', 'x', 'y']\n",
          "output_type": "stream"
        },
        {
          "execution_count": 9,
          "output_type": "execute_result",
          "data": {
            "text/plain": "0"
          },
          "metadata": {}
        }
      ],
      "execution_count": 9
    },
    {
      "cell_type": "code",
      "source": "print(\"columns of files are:\" ,df.columns)\nprint(\"columns of YAML are:\" ,config_data['columns'])",
      "metadata": {
        "trusted": true
      },
      "outputs": [
        {
          "name": "stdout",
          "text": "columns of files are: Index(['summons_number', 'plate_id', 'registration_state', 'plate_type',\n       'issue_date', 'violation_code', 'vehicle_body_type', 'vehicle_make',\n       'issuing_agency', 'street_code1', 'street_code2', 'street_code3',\n       'vehicle_expiration_date', 'violation_location', 'violation_precinct',\n       'issuer_precinct', 'issuer_code', 'issuer_command', 'issuer_squad',\n       'violation_time', 'time_first_observed', 'violation_county',\n       'violation_in_front_of_or_opposite', 'house_number', 'street_name',\n       'intersecting_street', 'date_first_observed', 'law_section',\n       'sub_division', 'violation_legal_code', 'days_parking_in_effect',\n       'from_hours_in_effect', 'to_hours_in_effect', 'vehicle_color',\n       'unregistered_vehicle', 'vehicle_year', 'meter_number',\n       'feet_from_curb', 'violation_post_code', 'violation_description',\n       'no_standing_or_stopping_violation', 'hydrant_violation',\n       'double_parking_violation', 'latitude', 'longitude', 'community_board',\n       'community_council', 'census_tract', 'bin', 'bbl', 'nta'],\n      dtype='object')\ncolumns of YAML are: -Summons Number -Plate ID -Registration State -Plate Type -Issue Date -Violation Code -Vehicle Body Type -Vehicle Make -Issuing Agency -Street Code1 -Street Code2 -Street Code3 -Vehicle Expiration Date -Violation Location -Violation Precinct -Issuer Precinct -Issuer Code -Issuer Command -Issuer Squad -Violation Time -Time First Observed -Violation County -Violation In Front Of Or Opposite -House Number -Street Name -Intersecting Street-Date First Observed -Law Section -Sub Division -Violation Legal Code -Days Parking In Effect -From Hours In Effect -To Hours In Effect -Vehicle Color -Unregistered Vehicle? -Vehicle Year -Meter Number -Feet From Curb-Violation Post Code -Violation Description -No Standing or Stopping Violation -Hydrant Violation -Double Parking Violation -Latitude -Longitude -Community Board -Community Council -Census Tract -BIN -BBL -NTA\n",
          "output_type": "stream"
        }
      ],
      "execution_count": 10
    },
    {
      "cell_type": "code",
      "source": "if util.col_header_val(df,config_data)==0:\n    print(\"validation failed\")\n    # write code to reject the file\nelse:\n    print(\"col validation passed\")\n    # write the code to perform further action\n    # in the pipleine",
      "metadata": {
        "trusted": true
      },
      "outputs": [
        {
          "name": "stdout",
          "text": "column name and column length validation failed\nFollowing File columns are not in the YAML file ['street_code3', 'street_code2', 'street_code1', 'plate_type', 'summons_number', 'issuer_precinct', 'days_parking_in_effect', 'issue_date', 'bin', 'violation_time', 'from_hours_in_effect', 'census_tract', 'street_name', 'unregistered_vehicle', 'vehicle_expiration_date', 'violation_precinct', 'meter_number', 'violation_county', 'issuing_agency', 'hydrant_violation', 'latitude', 'longitude', 'vehicle_make', 'feet_from_curb', 'to_hours_in_effect', 'issuer_squad', 'violation_code', 'no_standing_or_stopping_violation', 'violation_description', 'violation_in_front_of_or_opposite', 'violation_post_code', 'house_number', 'date_first_observed', 'violation_legal_code', 'issuer_code', 'plate_id', 'registration_state', 'bbl', 'time_first_observed', 'double_parking_violation', 'community_board', 'sub_division', 'vehicle_color', 'vehicle_year', 'issuer_command', 'law_section', 'intersecting_street', 'vehicle_body_type', 'community_council', 'violation_location', 'nta']\nFollowing YAML columns are not in the file uploaded ['q', 'f', 'g', 'd', 'e', 'b', 'c', ' ', 'a', 'n', 'o', 'l', '-', 'm', 'k', 'h', 'i', 'v', 'w', 't', 'u', '2', '3', 'r', '1', 's', '?', 'p', 'x', 'y']\nvalidation failed\n",
          "output_type": "stream"
        }
      ],
      "execution_count": 11
    },
    {
      "cell_type": "code",
      "source": "pd.read_csv(\"test_data.csv\")",
      "metadata": {
        "trusted": true
      },
      "outputs": [
        {
          "execution_count": 12,
          "output_type": "execute_result",
          "data": {
            "text/plain": "        Summons Number  Plate ID Registration State Plate Type  Issue Date  \\\n0           8002531292   EPC5238                 NY        PAS  10/01/2014   \n1           8015318440    5298MD                 NY        COM  03/06/2015   \n2           7611181981   FYW2775                 NY        PAS  07/28/2014   \n3           7445908067   GWE1987                 NY        PAS  04/13/2015   \n4           7037692864  T671196C                 NY        PAS  05/19/2015   \n...                ...       ...                ...        ...         ...   \n122742      7475935358   ETT3569                 NY        PAS  12/28/2014   \n122743      8002415711   22822JK                 NY        COM  07/23/2014   \n122744      8003468346   GSY2804                 NY        OMS  10/31/2014   \n122745      8030729595   GUW5439                 NY        PAS  04/16/2015   \n122746      7037507969    AS705B                 NJ        PAS  02/26/2015   \n\n        Violation Code Vehicle Body Type Vehicle Make Issuing Agency  \\\n0                   21              SUBN        CHEVR              T   \n1                   14               VAN        FRUEH              T   \n2                   46              SUBN        SUBAR              T   \n3                   19              4DSD        LEXUS              T   \n4                   19              4DSD        CHRYS              T   \n...                ...               ...          ...            ...   \n122742              40              4DSD        TOYOT              T   \n122743              14              PICK        CHEVR              T   \n122744              38              4DSD         FORD              T   \n122745              21              4DSD        HONDA              T   \n122746              69              DELV        FRUEH              T   \n\n        Street Code1  ...  Hydrant Violation  Double Parking Violation  \\\n0              20390  ...                NaN                       NaN   \n1              27790  ...                NaN                       NaN   \n2               8130  ...                NaN                       NaN   \n3              59990  ...                NaN                       NaN   \n4              36090  ...                NaN                       NaN   \n...              ...  ...                ...                       ...   \n122742         47390  ...                NaN                       NaN   \n122743         34570  ...                NaN                       NaN   \n122744         40890  ...                NaN                       NaN   \n122745         13610  ...                NaN                       NaN   \n122746         34930  ...                NaN                       NaN   \n\n       Latitude  Longitude  Community Board  Community Council   Census Tract  \\\n0           NaN        NaN              NaN                 NaN           NaN   \n1           NaN        NaN              NaN                 NaN           NaN   \n2           NaN        NaN              NaN                 NaN           NaN   \n3           NaN        NaN              NaN                 NaN           NaN   \n4           NaN        NaN              NaN                 NaN           NaN   \n...         ...        ...              ...                 ...           ...   \n122742      NaN        NaN              NaN                 NaN           NaN   \n122743      NaN        NaN              NaN                 NaN           NaN   \n122744      NaN        NaN              NaN                 NaN           NaN   \n122745      NaN        NaN              NaN                 NaN           NaN   \n122746      NaN        NaN              NaN                 NaN           NaN   \n\n       BIN BBL NTA  \n0      NaN NaN NaN  \n1      NaN NaN NaN  \n2      NaN NaN NaN  \n3      NaN NaN NaN  \n4      NaN NaN NaN  \n...     ..  ..  ..  \n122742 NaN NaN NaN  \n122743 NaN NaN NaN  \n122744 NaN NaN NaN  \n122745 NaN NaN NaN  \n122746 NaN NaN NaN  \n\n[122747 rows x 51 columns]",
            "text/html": "<div>\n<style scoped>\n    .dataframe tbody tr th:only-of-type {\n        vertical-align: middle;\n    }\n\n    .dataframe tbody tr th {\n        vertical-align: top;\n    }\n\n    .dataframe thead th {\n        text-align: right;\n    }\n</style>\n<table border=\"1\" class=\"dataframe\">\n  <thead>\n    <tr style=\"text-align: right;\">\n      <th></th>\n      <th>Summons Number</th>\n      <th>Plate ID</th>\n      <th>Registration State</th>\n      <th>Plate Type</th>\n      <th>Issue Date</th>\n      <th>Violation Code</th>\n      <th>Vehicle Body Type</th>\n      <th>Vehicle Make</th>\n      <th>Issuing Agency</th>\n      <th>Street Code1</th>\n      <th>...</th>\n      <th>Hydrant Violation</th>\n      <th>Double Parking Violation</th>\n      <th>Latitude</th>\n      <th>Longitude</th>\n      <th>Community Board</th>\n      <th>Community Council</th>\n      <th>Census Tract</th>\n      <th>BIN</th>\n      <th>BBL</th>\n      <th>NTA</th>\n    </tr>\n  </thead>\n  <tbody>\n    <tr>\n      <th>0</th>\n      <td>8002531292</td>\n      <td>EPC5238</td>\n      <td>NY</td>\n      <td>PAS</td>\n      <td>10/01/2014</td>\n      <td>21</td>\n      <td>SUBN</td>\n      <td>CHEVR</td>\n      <td>T</td>\n      <td>20390</td>\n      <td>...</td>\n      <td>NaN</td>\n      <td>NaN</td>\n      <td>NaN</td>\n      <td>NaN</td>\n      <td>NaN</td>\n      <td>NaN</td>\n      <td>NaN</td>\n      <td>NaN</td>\n      <td>NaN</td>\n      <td>NaN</td>\n    </tr>\n    <tr>\n      <th>1</th>\n      <td>8015318440</td>\n      <td>5298MD</td>\n      <td>NY</td>\n      <td>COM</td>\n      <td>03/06/2015</td>\n      <td>14</td>\n      <td>VAN</td>\n      <td>FRUEH</td>\n      <td>T</td>\n      <td>27790</td>\n      <td>...</td>\n      <td>NaN</td>\n      <td>NaN</td>\n      <td>NaN</td>\n      <td>NaN</td>\n      <td>NaN</td>\n      <td>NaN</td>\n      <td>NaN</td>\n      <td>NaN</td>\n      <td>NaN</td>\n      <td>NaN</td>\n    </tr>\n    <tr>\n      <th>2</th>\n      <td>7611181981</td>\n      <td>FYW2775</td>\n      <td>NY</td>\n      <td>PAS</td>\n      <td>07/28/2014</td>\n      <td>46</td>\n      <td>SUBN</td>\n      <td>SUBAR</td>\n      <td>T</td>\n      <td>8130</td>\n      <td>...</td>\n      <td>NaN</td>\n      <td>NaN</td>\n      <td>NaN</td>\n      <td>NaN</td>\n      <td>NaN</td>\n      <td>NaN</td>\n      <td>NaN</td>\n      <td>NaN</td>\n      <td>NaN</td>\n      <td>NaN</td>\n    </tr>\n    <tr>\n      <th>3</th>\n      <td>7445908067</td>\n      <td>GWE1987</td>\n      <td>NY</td>\n      <td>PAS</td>\n      <td>04/13/2015</td>\n      <td>19</td>\n      <td>4DSD</td>\n      <td>LEXUS</td>\n      <td>T</td>\n      <td>59990</td>\n      <td>...</td>\n      <td>NaN</td>\n      <td>NaN</td>\n      <td>NaN</td>\n      <td>NaN</td>\n      <td>NaN</td>\n      <td>NaN</td>\n      <td>NaN</td>\n      <td>NaN</td>\n      <td>NaN</td>\n      <td>NaN</td>\n    </tr>\n    <tr>\n      <th>4</th>\n      <td>7037692864</td>\n      <td>T671196C</td>\n      <td>NY</td>\n      <td>PAS</td>\n      <td>05/19/2015</td>\n      <td>19</td>\n      <td>4DSD</td>\n      <td>CHRYS</td>\n      <td>T</td>\n      <td>36090</td>\n      <td>...</td>\n      <td>NaN</td>\n      <td>NaN</td>\n      <td>NaN</td>\n      <td>NaN</td>\n      <td>NaN</td>\n      <td>NaN</td>\n      <td>NaN</td>\n      <td>NaN</td>\n      <td>NaN</td>\n      <td>NaN</td>\n    </tr>\n    <tr>\n      <th>...</th>\n      <td>...</td>\n      <td>...</td>\n      <td>...</td>\n      <td>...</td>\n      <td>...</td>\n      <td>...</td>\n      <td>...</td>\n      <td>...</td>\n      <td>...</td>\n      <td>...</td>\n      <td>...</td>\n      <td>...</td>\n      <td>...</td>\n      <td>...</td>\n      <td>...</td>\n      <td>...</td>\n      <td>...</td>\n      <td>...</td>\n      <td>...</td>\n      <td>...</td>\n      <td>...</td>\n    </tr>\n    <tr>\n      <th>122742</th>\n      <td>7475935358</td>\n      <td>ETT3569</td>\n      <td>NY</td>\n      <td>PAS</td>\n      <td>12/28/2014</td>\n      <td>40</td>\n      <td>4DSD</td>\n      <td>TOYOT</td>\n      <td>T</td>\n      <td>47390</td>\n      <td>...</td>\n      <td>NaN</td>\n      <td>NaN</td>\n      <td>NaN</td>\n      <td>NaN</td>\n      <td>NaN</td>\n      <td>NaN</td>\n      <td>NaN</td>\n      <td>NaN</td>\n      <td>NaN</td>\n      <td>NaN</td>\n    </tr>\n    <tr>\n      <th>122743</th>\n      <td>8002415711</td>\n      <td>22822JK</td>\n      <td>NY</td>\n      <td>COM</td>\n      <td>07/23/2014</td>\n      <td>14</td>\n      <td>PICK</td>\n      <td>CHEVR</td>\n      <td>T</td>\n      <td>34570</td>\n      <td>...</td>\n      <td>NaN</td>\n      <td>NaN</td>\n      <td>NaN</td>\n      <td>NaN</td>\n      <td>NaN</td>\n      <td>NaN</td>\n      <td>NaN</td>\n      <td>NaN</td>\n      <td>NaN</td>\n      <td>NaN</td>\n    </tr>\n    <tr>\n      <th>122744</th>\n      <td>8003468346</td>\n      <td>GSY2804</td>\n      <td>NY</td>\n      <td>OMS</td>\n      <td>10/31/2014</td>\n      <td>38</td>\n      <td>4DSD</td>\n      <td>FORD</td>\n      <td>T</td>\n      <td>40890</td>\n      <td>...</td>\n      <td>NaN</td>\n      <td>NaN</td>\n      <td>NaN</td>\n      <td>NaN</td>\n      <td>NaN</td>\n      <td>NaN</td>\n      <td>NaN</td>\n      <td>NaN</td>\n      <td>NaN</td>\n      <td>NaN</td>\n    </tr>\n    <tr>\n      <th>122745</th>\n      <td>8030729595</td>\n      <td>GUW5439</td>\n      <td>NY</td>\n      <td>PAS</td>\n      <td>04/16/2015</td>\n      <td>21</td>\n      <td>4DSD</td>\n      <td>HONDA</td>\n      <td>T</td>\n      <td>13610</td>\n      <td>...</td>\n      <td>NaN</td>\n      <td>NaN</td>\n      <td>NaN</td>\n      <td>NaN</td>\n      <td>NaN</td>\n      <td>NaN</td>\n      <td>NaN</td>\n      <td>NaN</td>\n      <td>NaN</td>\n      <td>NaN</td>\n    </tr>\n    <tr>\n      <th>122746</th>\n      <td>7037507969</td>\n      <td>AS705B</td>\n      <td>NJ</td>\n      <td>PAS</td>\n      <td>02/26/2015</td>\n      <td>69</td>\n      <td>DELV</td>\n      <td>FRUEH</td>\n      <td>T</td>\n      <td>34930</td>\n      <td>...</td>\n      <td>NaN</td>\n      <td>NaN</td>\n      <td>NaN</td>\n      <td>NaN</td>\n      <td>NaN</td>\n      <td>NaN</td>\n      <td>NaN</td>\n      <td>NaN</td>\n      <td>NaN</td>\n      <td>NaN</td>\n    </tr>\n  </tbody>\n</table>\n<p>122747 rows × 51 columns</p>\n</div>"
          },
          "metadata": {}
        }
      ],
      "execution_count": 12
    }
  ]
}